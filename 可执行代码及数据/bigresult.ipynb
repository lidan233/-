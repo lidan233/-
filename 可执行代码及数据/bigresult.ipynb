{
 "cells": [
  {
   "cell_type": "code",
   "execution_count": 3,
   "metadata": {},
   "outputs": [],
   "source": [
    "#nantong's osm data for the liu big result \n",
    "import osmium as osm\n",
    "import pandas as pd\n",
    "import numpy as np \n",
    "\n",
    "class OSMHandler(osm.SimpleHandler):\n",
    "    def __init__(self):\n",
    "        osm.SimpleHandler.__init__(self)\n",
    "        self.osm_data = []\n",
    "        self.osm_node_raw = []\n",
    "        self.osm_node_data  = []\n",
    "        self.osm_way_data = []\n",
    "        self.osm_way_raw = []\n",
    "        self.osm_relation_data = []\n",
    "        self.osm_relation_raw = []\n",
    "        self.dict_way_id = dict()\n",
    "        self.dict_node_id = dict()\n",
    "        self.dict_relation_id = dict()\n",
    "        \n",
    "\n",
    "    def tag_inventory(self, elem, elem_type):\n",
    "        data = dict()\n",
    "        data['elem_type'] = elem_type \n",
    "        data['elem_id'] = elem.id\n",
    "        data['elem_version'] = elem.version \n",
    "        data['timestemp'] = pd.Timestamp(elem.timestamp)\n",
    "        data['elem_uid'] = elem.uid \n",
    "        data['elem_user'] = elem.user \n",
    "        data['elem_changeset'] = elem.changeset\n",
    "        data['elem_tags'] = dict(elem.tags)\n",
    "#         data['elem_location']= elem.location \n",
    "        if elem_type=='node':\n",
    "            self.dict_node_id[elem.id] = len(self.osm_node_data) \n",
    "            self.osm_node_data.append(data)\n",
    "#             self.osm_node_raw.append(elem)\n",
    "           \n",
    "        elif elem_type == 'way':\n",
    "            self.dict_way_id[elem.id] = len(self.osm_way_data) \n",
    "            data['elem_nodes'] = [en.ref for en in list(elem.nodes)]\n",
    "            self.osm_way_data.append(data)\n",
    "#             self.osm_way_raw.append(elem)\n",
    "        \n",
    "        elif elem_type == 'relation':\n",
    "#             print(elem)\n",
    "            self.dict_relation_id[elem.id] = len(self.osm_relation_data) \n",
    "            data['elem_members'] = [ em.ref for em in  list(elem.members)]\n",
    "            data['elem_members_type'] = [ em.type for em in list(elem.members)]\n",
    "#             self.osm_relation_raw.append(elem)\n",
    "            self.osm_relation_data.append(data) \n",
    "        \n",
    "#         for tag in elem.tags:\n",
    "            \n",
    "#             data['elem_tag_s'] = tag\n",
    "#             self.osm_data.append([elem_type, \n",
    "#                                    elem.id, \n",
    "# #                                    elem.lat,\n",
    "# #                                    elem.lon,\n",
    "#                                    elem.version,\n",
    "#                                    pd.Timestamp(elem.timestamp),\n",
    "#                                    elem.uid,\n",
    "#                                    elem.user,\n",
    "#                                    elem.changeset,\n",
    "#                                    elem.tags,\n",
    "#                                    tag.k,\n",
    "#                                    tag.v])\n",
    "\n",
    "    def node(self, n):\n",
    "        self.tag_inventory(n, \"node\")\n",
    "\n",
    "    def way(self, w):\n",
    "        self.tag_inventory(w, \"way\")\n",
    "\n",
    "    def relation(self, r):\n",
    "        self.tag_inventory(r, \"relation\")\n",
    "osmhandler = OSMHandler()\n",
    "# scan the input file and fills the handler list accordingly\n",
    "osmhandler.apply_file(\"./data/nantong.osm\")\n",
    "nodes = osmhandler.osm_node_data\n",
    "ways = osmhandler.osm_way_data\n",
    "relations = osmhandler.osm_relation_data\n",
    "\n",
    "def get_node_index(idx):\n",
    "    return osmhandler.dict_node_id[idx]\n",
    "def get_way_index(idx):\n",
    "    return osmhandler.dict_way_id[idx]\n",
    "def get_trijectory(elem):\n",
    "    ways_members = elem['elem_members']\n",
    "    ways = []\n",
    "    paths = []\n",
    "    for wm in ways_members:\n",
    "#         print(wm)\n",
    "        if  wm in osmhandler.dict_way_id :\n",
    "#         print(osmhandler.dict_way_id.keys())\n",
    "            way = osmhandler.osm_way_data[osmhandler.dict_way_id[wm]]\n",
    "#             print(way)\n",
    "            path = []\n",
    "            for i in way['elem_nodes']:\n",
    "                if i in osmhandler.dict_node_id:\n",
    "#                     node = osmhandler.osm_node_data[osmhandler.dict_node_id[i]]\n",
    "                    path.append(osmhandler.dict_node_id[i])\n",
    "            paths.append(path)\n",
    "    return paths\n",
    "\n",
    "\n",
    "# 连接矩阵用来制作拉普拉斯矩阵 为GCN做准备 但是这个里面太大了 我的电脑跑不起来 有几百万参数 所以我不使用这个 由于我的过程比较少，所以我选择过程作为矩阵也就是下面那个函数  \n",
    "def get_ways_other(elem):\n",
    "    nodes =  elem[elem_nodes]\n",
    "    path = []\n",
    "    for i in nodes:\n",
    "        if i in osmhandler.dict_node_id:\n",
    "            path.append(osmhandler.dict_node_id[i])\n",
    "    return path \n",
    "        \n",
    "def get_ways(elem):\n",
    "    ways_members = elem['elem_members']\n",
    "    ways = []\n",
    "    paths = []\n",
    "    for wm in ways_members:\n",
    "#         print(wm)\n",
    "        if  wm in osmhandler.dict_way_id :\n",
    "#         print(osmhandler.dict_way_id.keys())\n",
    "            way = osmhandler.osm_way_data[osmhandler.dict_way_id[wm]]\n",
    "#             print(way)\n",
    "            path = []\n",
    "            for i in way['elem_nodes']:\n",
    "                if i in osmhandler.dict_node_id:\n",
    "#                     node = osmhandler.osm_node_data[osmhandler.dict_node_id[i]]\n",
    "                    path.append(osmhandler.dict_node_id[i])\n",
    "            paths.append(path)"
   ]
  },
  {
   "cell_type": "code",
   "execution_count": 4,
   "metadata": {},
   "outputs": [
    {
     "name": "stdout",
     "output_type": "stream",
     "text": [
      "324020\n",
      "53002\n",
      "964\n"
     ]
    }
   ],
   "source": [
    "node_size = len(nodes)\n",
    "way_size = len(ways)\n",
    "relation_size  = len(relations)\n",
    "#这里是小样本的轨迹数据\n",
    "print(node_size)\n",
    "print(way_size)\n",
    "print(relation_size)"
   ]
  },
  {
   "cell_type": "code",
   "execution_count": 5,
   "metadata": {},
   "outputs": [],
   "source": [
    "allpath = []\n",
    "for i in range(len(relations)):\n",
    "    allpath += get_trijectory(relations[i])"
   ]
  },
  {
   "cell_type": "code",
   "execution_count": 6,
   "metadata": {},
   "outputs": [],
   "source": [
    "\n",
    "import scipy.sparse as sp\n",
    "S = sp.dok_matrix((node_size, node_size), dtype=np.float32)\n",
    "\n",
    "linjie = sp.dok_matrix((node_size, node_size), dtype=np.float32)\n",
    "\n",
    "for path in allpath:\n",
    "    for i in range(1,len(path)):\n",
    "        S[path[i-1],path[i]] += 1 \n",
    "        S[path[i],path[i-1]] += 1 \n",
    "        if linjie.get((path[i-1],path[i]))==0:\n",
    "            linjie[path[i-1],path[i]] = 1\n",
    "            linjie[path[i],path[i-1]] = 1 \n",
    "       \n",
    "    \n",
    "from sklearn.decomposition import TruncatedSVD\n",
    "clf = TruncatedSVD(128)\n",
    "S_pca = clf.fit_transform(S)\n",
    "\n",
    "# 所以在这里 其中linjie不可避免的成为了对应的连通性矩阵\n",
    "# 同时S_pca 成了节点轨迹矩阵的 也就作为了GCN的属性矩阵\n"
   ]
  },
  {
   "cell_type": "code",
   "execution_count": 8,
   "metadata": {},
   "outputs": [],
   "source": [
    "from scipy import io\n",
    "# sp.save_npz(\"node_property.npz\",S)\n",
    "# sp.save_npz(\"linjie.npz\",linjie)\n",
    "io.mmwrite(\"node_property.mtx\",S_pca)\n",
    "io.mmwrite(\"linjie.mtx\",linjie)\n",
    "io.mmwrite('source_link.mtx',S)"
   ]
  },
  {
   "cell_type": "code",
   "execution_count": 32,
   "metadata": {},
   "outputs": [],
   "source": [
    "io.mmwrite(\"linjie.mtx\",S_pca)"
   ]
  },
  {
   "cell_type": "code",
   "execution_count": 10,
   "metadata": {},
   "outputs": [],
   "source": [
    "io.mmwrite('source_link.mtx',S)"
   ]
  },
  {
   "cell_type": "code",
   "execution_count": 31,
   "metadata": {},
   "outputs": [
    {
     "data": {
      "text/plain": [
       "array([-2.1537559e-07, -9.7161808e-07, -5.2053650e-07, -4.0266077e-06,\n",
       "       -1.2470543e-06, -1.1152174e-06,  4.2225397e-06, -1.5435741e-06,\n",
       "       -1.6860404e-06,  3.7684240e-06, -3.2563448e-06,  6.1976829e-07,\n",
       "        2.9879641e-06, -4.2938386e-06, -2.4882888e-07,  5.9274058e-08,\n",
       "        1.7290970e-06, -3.6829351e-06, -4.4181284e-06, -3.3271908e-07,\n",
       "       -1.3050508e-06,  2.3761324e-06, -6.1176597e-06,  4.7389158e-06,\n",
       "        3.7659549e-06, -1.8235064e-06,  3.3262987e-07, -2.9220746e-06,\n",
       "       -3.5361290e-06,  3.4514130e-06, -4.1965700e-06,  3.6689525e-07,\n",
       "       -1.3131113e-06, -1.3356573e-06, -1.7811311e-07, -2.3679296e-07,\n",
       "        1.0450824e-06, -1.9495085e-06,  2.0360549e-06, -1.0097391e-06,\n",
       "        2.0824989e-06, -2.1026950e-07,  1.8215444e-06, -2.1705655e-06,\n",
       "       -1.1627476e-06,  1.4232653e-06,  2.8135688e-07, -9.7675832e-07,\n",
       "       -6.9369935e-07, -1.1636102e-07,  1.3760906e-06,  1.9925674e-06,\n",
       "       -6.2540110e-08, -1.0520297e-06, -2.3678908e-06,  1.0606960e-06,\n",
       "       -7.6575503e-07, -4.8357329e-06,  1.1794799e-06, -1.0880459e-07,\n",
       "       -1.3313028e-06,  1.2149110e-06,  1.5789908e-07,  2.9880843e-07,\n",
       "        6.1064748e-07,  1.2825644e-06,  4.6453277e-07,  1.3274140e-06,\n",
       "       -1.2741152e-07,  4.0561105e-07,  5.8386377e-08,  1.7723512e-06,\n",
       "       -3.3499146e-07,  1.9811263e-07, -6.0771293e-07, -4.6296591e-07,\n",
       "       -3.4473462e-07,  6.4205716e-07, -1.8076920e-06, -1.1767156e-07,\n",
       "       -8.6923239e-07, -1.9237248e-06,  5.9856745e-08, -7.4931103e-07,\n",
       "        1.8421864e-06,  2.0370540e-07, -7.0317367e-07,  5.1393545e-07,\n",
       "        2.7272910e-07,  1.5585429e-06, -9.6884196e-07, -2.0498345e-07,\n",
       "        3.0550009e-08,  4.8179317e-07, -8.6296990e-07,  8.6383830e-07,\n",
       "        6.8373544e-07,  7.5566794e-07,  1.1076044e-06, -4.3990002e-07],\n",
       "      dtype=float32)"
      ]
     },
     "execution_count": 31,
     "metadata": {},
     "output_type": "execute_result"
    }
   ],
   "source": []
  },
  {
   "cell_type": "code",
   "execution_count": 5,
   "metadata": {},
   "outputs": [
    {
     "name": "stdout",
     "output_type": "stream",
     "text": [
      "{'elem_type': 'node', 'elem_id': 28398853, 'elem_version': 1, 'timestemp': Timestamp('2007-05-01 21:51:49+0000', tz='UTC'), 'elem_uid': 5553, 'elem_user': 'dkt', 'elem_changeset': 36445, 'elem_tags': {'created_by': 'almien_coastlines', 'source': 'PGS'}}\n",
      "{'elem_type': 'way', 'elem_id': 4550743, 'elem_version': 6, 'timestemp': Timestamp('2014-10-22 20:49:28+0000', tz='UTC'), 'elem_uid': 2226712, 'elem_user': 'dannykath', 'elem_changeset': 26265507, 'elem_tags': {'source': 'PGS & Bing', 'waterway': 'riverbank'}}\n"
     ]
    }
   ],
   "source": [
    "print(nodes[0])\n",
    "print(ways[0])\n"
   ]
  },
  {
   "cell_type": "code",
   "execution_count": 35,
   "metadata": {},
   "outputs": [
    {
     "name": "stdout",
     "output_type": "stream",
     "text": [
      "{'elem_type': 'relation', 'elem_id': 53644, 'elem_version': 6, 'timestemp': Timestamp('2018-04-14 13:51:08+0000', tz='UTC'), 'elem_uid': 110639, 'elem_user': 'aighes', 'elem_changeset': 58089649, 'elem_tags': {'type': 'multipolygon', 'waterway': 'riverbank'}, 'elem_members': [osmium.osm.RelationMember(ref=579858789, type='w', role='outer'), osmium.osm.RelationMember(ref=579858797, type='w', role='outer'), osmium.osm.RelationMember(ref=579858796, type='w', role='outer'), osmium.osm.RelationMember(ref=579858794, type='w', role='outer'), osmium.osm.RelationMember(ref=579858793, type='w', role='outer'), osmium.osm.RelationMember(ref=579858791, type='w', role='outer'), osmium.osm.RelationMember(ref=579858790, type='w', role='outer'), osmium.osm.RelationMember(ref=579858788, type='w', role='outer'), osmium.osm.RelationMember(ref=579858787, type='w', role='outer'), osmium.osm.RelationMember(ref=579858799, type='w', role='outer'), osmium.osm.RelationMember(ref=326666038, type='w', role='inner'), osmium.osm.RelationMember(ref=326666039, type='w', role='outer'), osmium.osm.RelationMember(ref=226828404, type='w', role='outer'), osmium.osm.RelationMember(ref=326666036, type='w', role='outer'), osmium.osm.RelationMember(ref=326666040, type='w', role='outer'), osmium.osm.RelationMember(ref=226828405, type='w', role='outer'), osmium.osm.RelationMember(ref=226828403, type='w', role='outer')]}\n"
     ]
    }
   ],
   "source": [
    "print(relations[0])"
   ]
  },
  {
   "cell_type": "code",
   "execution_count": 6,
   "metadata": {},
   "outputs": [],
   "source": [
    "\n",
    "            \n"
   ]
  },
  {
   "cell_type": "code",
   "execution_count": 7,
   "metadata": {},
   "outputs": [
    {
     "data": {
      "text/plain": [
       "{'elem_type': 'way',\n",
       " 'elem_id': 4550743,\n",
       " 'elem_version': 6,\n",
       " 'timestemp': Timestamp('2014-10-22 20:49:28+0000', tz='UTC'),\n",
       " 'elem_uid': 2226712,\n",
       " 'elem_user': 'dannykath',\n",
       " 'elem_changeset': 26265507,\n",
       " 'elem_tags': {'source': 'PGS & Bing', 'waterway': 'riverbank'},\n",
       " 'elem_nodes': [osmium.osm.NodeRef(ref=3, location=osmium.osm.Location(x=-1, y=-1)),\n",
       "  osmium.osm.NodeRef(ref=164, location=osmium.osm.Location(x=0, y=0)),\n",
       "  osmium.osm.NodeRef(ref=0, location=osmium.osm.Location(x=0, y=0)),\n",
       "  osmium.osm.NodeRef(ref=0, location=osmium.osm.Location(x=3285157, y=0)),\n",
       "  osmium.osm.NodeRef(ref=1, location=osmium.osm.Location(x=27996256, y=1)),\n",
       "  osmium.osm.NodeRef(ref=24, location=osmium.osm.Location(x=53225474, y=-740114989)),\n",
       "  osmium.osm.NodeRef(ref=228, location=osmium.osm.Location(x=0, y=0)),\n",
       "  osmium.osm.NodeRef(ref=8385530335628260720, location=osmium.osm.Location()),\n",
       "  osmium.osm.NodeRef(ref=7957695011148363322, location=osmium.osm.Location(x=0, y=0)),\n",
       "  osmium.osm.NodeRef(ref=1, location=osmium.osm.Location(x=27996256, y=1))]}"
      ]
     },
     "execution_count": 7,
     "metadata": {},
     "output_type": "execute_result"
    }
   ],
   "source": [
    "ways[0]"
   ]
  },
  {
   "cell_type": "code",
   "execution_count": null,
   "metadata": {},
   "outputs": [],
   "source": [
    "get_trijectory(relations[0])"
   ]
  },
  {
   "cell_type": "code",
   "execution_count": 29,
   "metadata": {},
   "outputs": [
    {
     "data": {
      "text/plain": [
       "dict_keys([2226712, 42537, 1804331, 2286161, 17497, 534149, 257555, 1832883, 5553, 6591408, 2215592, 23785, 2500, 2748195, 4816761, 2219338, 304705, 9176, 87483, 4220901, 413914, 476483, 3182193, 386131, 1185631, 2512300, 5317567, 42429, 953424, 83557, 388809, 3189456, 1380023, 66811, 253683, 421504, 14002, 1829683, 616774, 499500, 3731755, 720609, 2511706, 510836, 3164012, 1240849, 110639, 2377377, 1330847, 1263561, 4803527, 4803512, 4803528, 8350466, 5888135, 6052789, 1236135, 2507347, 384084, 2891170, 2508151, 1937363, 5891, 1708958, 3091009, 2905914, 5509234, 26299, 2554698, 396203, 437598, 3057995, 1911765, 1051550, 5996162, 597625, 5147743, 6714381, 4803525, 2665933, 6127520, 224440, 1901087, 2728141, 2513563, 4497723, 1803854, 3619022, 3619060, 7289974, 7755848, 7595195, 2948558, 1795336, 4210803, 2823295, 5400428, 5400480, 2728060, 3642735, 665748, 3775202, 3424135, 527721, 161619, 1293194, 172147, 967832, 2046201, 632124, 497849, 29084, 5460325, 454589, 2489224, 91490, 8570285, 80203, 201359, 651869, 85218, 2709708, 3497015, 6688316, 192467])"
      ]
     },
     "execution_count": 29,
     "metadata": {},
     "output_type": "execute_result"
    }
   ],
   "source": [
    "osmhandler.dict_way_id.keys()"
   ]
  },
  {
   "cell_type": "code",
   "execution_count": 28,
   "metadata": {},
   "outputs": [
    {
     "name": "stdout",
     "output_type": "stream",
     "text": [
      "483517995\n"
     ]
    },
    {
     "ename": "KeyError",
     "evalue": "483517995",
     "output_type": "error",
     "traceback": [
      "\u001b[0;31m---------------------------------------------------------------------------\u001b[0m",
      "\u001b[0;31mKeyError\u001b[0m                                  Traceback (most recent call last)",
      "\u001b[0;32m<ipython-input-28-0efe07364889>\u001b[0m in \u001b[0;36m<module>\u001b[0;34m()\u001b[0m\n\u001b[0;32m----> 1\u001b[0;31m \u001b[0mget_trijectory\u001b[0m\u001b[0;34m(\u001b[0m\u001b[0mrelations\u001b[0m\u001b[0;34m[\u001b[0m\u001b[0;36m1\u001b[0m\u001b[0;34m]\u001b[0m\u001b[0;34m)\u001b[0m\u001b[0;34m\u001b[0m\u001b[0;34m\u001b[0m\u001b[0m\n\u001b[0m",
      "\u001b[0;32m<ipython-input-27-06c1bfae14f6>\u001b[0m in \u001b[0;36mget_trijectory\u001b[0;34m(elem)\u001b[0m\n\u001b[1;32m      9\u001b[0m         \u001b[0mprint\u001b[0m\u001b[0;34m(\u001b[0m\u001b[0mwm\u001b[0m\u001b[0;34m.\u001b[0m\u001b[0mref\u001b[0m\u001b[0;34m)\u001b[0m\u001b[0;34m\u001b[0m\u001b[0;34m\u001b[0m\u001b[0m\n\u001b[1;32m     10\u001b[0m \u001b[0;31m#         print(osmhandler.dict_way_id.keys())\u001b[0m\u001b[0;34m\u001b[0m\u001b[0;34m\u001b[0m\u001b[0;34m\u001b[0m\u001b[0m\n\u001b[0;32m---> 11\u001b[0;31m         \u001b[0mway\u001b[0m \u001b[0;34m=\u001b[0m \u001b[0mosmhandler\u001b[0m\u001b[0;34m.\u001b[0m\u001b[0mosm_way_data\u001b[0m\u001b[0;34m[\u001b[0m\u001b[0mosmhandler\u001b[0m\u001b[0;34m.\u001b[0m\u001b[0mdict_way_id\u001b[0m\u001b[0;34m[\u001b[0m\u001b[0mwm\u001b[0m\u001b[0;34m.\u001b[0m\u001b[0mref\u001b[0m\u001b[0;34m]\u001b[0m\u001b[0;34m]\u001b[0m\u001b[0;34m\u001b[0m\u001b[0;34m\u001b[0m\u001b[0m\n\u001b[0m\u001b[1;32m     12\u001b[0m         \u001b[0mprint\u001b[0m\u001b[0;34m(\u001b[0m\u001b[0mway\u001b[0m\u001b[0;34m)\u001b[0m\u001b[0;34m\u001b[0m\u001b[0;34m\u001b[0m\u001b[0m\n",
      "\u001b[0;31mKeyError\u001b[0m: 483517995"
     ]
    }
   ],
   "source": [
    "get_trijectory(relations[1])"
   ]
  },
  {
   "cell_type": "code",
   "execution_count": 17,
   "metadata": {},
   "outputs": [
    {
     "data": {
      "text/plain": [
       "osmium.osm.RelationMember(ref=483518005, type='w', role='side_stream')"
      ]
     },
     "execution_count": 17,
     "metadata": {},
     "output_type": "execute_result"
    }
   ],
   "source": [
    "list(relations_raw[1].members)[2]"
   ]
  },
  {
   "cell_type": "code",
   "execution_count": null,
   "metadata": {},
   "outputs": [],
   "source": []
  },
  {
   "cell_type": "code",
   "execution_count": null,
   "metadata": {},
   "outputs": [],
   "source": [
    "\n",
    "        "
   ]
  },
  {
   "cell_type": "code",
   "execution_count": 67,
   "metadata": {},
   "outputs": [
    {
     "data": {
      "text/plain": [
       "{'elem_type': 'way',\n",
       " 'elem_id': 4550743,\n",
       " 'elem_version': 6,\n",
       " 'timestemp': Timestamp('2014-10-22 20:49:28+0000', tz='UTC'),\n",
       " 'elem_uid': 2226712,\n",
       " 'elem_user': 'dannykath',\n",
       " 'elem_changeset': 26265507,\n",
       " 'elem_tags': {'source': 'PGS & Bing', 'waterway': 'riverbank'}}"
      ]
     },
     "execution_count": 67,
     "metadata": {},
     "output_type": "execute_result"
    }
   ],
   "source": []
  },
  {
   "cell_type": "code",
   "execution_count": 36,
   "metadata": {},
   "outputs": [
    {
     "data": {
      "text/plain": [
       "579858789"
      ]
     },
     "execution_count": 36,
     "metadata": {},
     "output_type": "execute_result"
    }
   ],
   "source": []
  },
  {
   "cell_type": "code",
   "execution_count": 42,
   "metadata": {},
   "outputs": [
    {
     "name": "stdout",
     "output_type": "stream",
     "text": [
      "324020\n",
      "53002\n",
      "964\n"
     ]
    }
   ],
   "source": [
    "#这里是小样本的轨迹数据\n",
    "print(len(nodes))\n",
    "print(len(ways))\n",
    "print(len(relation))"
   ]
  },
  {
   "cell_type": "code",
   "execution_count": null,
   "metadata": {},
   "outputs": [],
   "source": []
  },
  {
   "cell_type": "code",
   "execution_count": 20,
   "metadata": {},
   "outputs": [],
   "source": [
    "class trajectory2graph:\n",
    "    def __init__(self,node_data,ways,trajectory):\n",
    "        "
   ]
  },
  {
   "cell_type": "code",
   "execution_count": 30,
   "metadata": {},
   "outputs": [
    {
     "data": {
      "text/plain": [
       "['way',\n",
       " 189083399,\n",
       " 6,\n",
       " True,\n",
       " Timestamp('2015-11-21 04:19:03+0000', tz='UTC'),\n",
       " 2215592,\n",
       " 'xiaotu',\n",
       " 35479866,\n",
       " 3,\n",
       " 'highway',\n",
       " 'tertiary']"
      ]
     },
     "execution_count": 30,
     "metadata": {},
     "output_type": "execute_result"
    }
   ],
   "source": [
    "temp[30000]"
   ]
  },
  {
   "cell_type": "code",
   "execution_count": null,
   "metadata": {},
   "outputs": [],
   "source": []
  }
 ],
 "metadata": {
  "kernelspec": {
   "display_name": "Python 3",
   "language": "python",
   "name": "python3"
  },
  "language_info": {
   "codemirror_mode": {
    "name": "ipython",
    "version": 3
   },
   "file_extension": ".py",
   "mimetype": "text/x-python",
   "name": "python",
   "nbconvert_exporter": "python",
   "pygments_lexer": "ipython3",
   "version": "3.7.3"
  }
 },
 "nbformat": 4,
 "nbformat_minor": 2
}
