{
 "cells": [
  {
   "cell_type": "code",
   "execution_count": 2,
   "metadata": {},
   "outputs": [],
   "source": [
    "# 大作业\n",
    "# \"\"\"\n",
    "#   大作业选择做城市轨迹可视化\n",
    "#   首先将城市轨迹转化为最简单的轨迹矩阵\n",
    "#   然后在轨迹矩阵的基础上 和 对应轨迹数据的节点属性的基础上 对轨迹进行整合\n",
    "#   使用gcn进行处理 然后再转自编码 然后再转可视化\n",
    "#   这个就是这个城市的轨迹信息\n",
    "#   使用之前见到过的可视化的那个架构，然后结束\n",
    "# \"\"\"\n",
    "import json\n",
    "import numpy as np\n",
    "import tensorflow as tf \n",
    "import pandas as pd "
   ]
  },
  {
   "cell_type": "code",
   "execution_count": null,
   "metadata": {},
   "outputs": [],
   "source": []
  },
  {
   "cell_type": "code",
   "execution_count": 3,
   "metadata": {},
   "outputs": [],
   "source": [
    "with open('./check-in data/categories.json',encoding = \"ISO-8859-1\") as f:\n",
    "    catagory = json.load(f)"
   ]
  },
  {
   "cell_type": "code",
   "execution_count": 4,
   "metadata": {},
   "outputs": [
    {
     "data": {
      "text/plain": [
       "{'code': 200}"
      ]
     },
     "execution_count": 4,
     "metadata": {},
     "output_type": "execute_result"
    }
   ],
   "source": [
    "catagory['meta']"
   ]
  },
  {
   "cell_type": "code",
   "execution_count": 5,
   "metadata": {},
   "outputs": [],
   "source": [
    "catagories = dict()\n",
    "response = catagory['response']['categories']\n",
    "for i in response:\n",
    "    catagories[i['name']] = i "
   ]
  },
  {
   "cell_type": "code",
   "execution_count": 10,
   "metadata": {},
   "outputs": [
    {
     "data": {
      "text/plain": [
       "{'name': 'Arts & Entertainment',\n",
       " 'pluralName': 'Arts & Entertainment',\n",
       " 'icon': 'https://foursquare.com/img/categories/arts_entertainment/default.png',\n",
       " 'categories': [{'id': '4bf58dd8d48988d1e1931735',\n",
       "   'name': 'Arcade',\n",
       "   'pluralName': 'Arcades',\n",
       "   'icon': 'https://foursquare.com/img/categories/arts_entertainment/arcade.png',\n",
       "   'categories': []},\n",
       "  {'id': '4bf58dd8d48988d1e2931735',\n",
       "   'name': 'Art Gallery',\n",
       "   'pluralName': 'Art Galleries',\n",
       "   'icon': 'https://foursquare.com/img/categories/arts_entertainment/artgallery.png',\n",
       "   'categories': []},\n",
       "  {'id': '4bf58dd8d48988d1e4931735',\n",
       "   'name': 'Bowling Alley',\n",
       "   'pluralName': 'Bowling Alleys',\n",
       "   'icon': 'https://foursquare.com/img/categories/arts_entertainment/bowling.png',\n",
       "   'categories': []},\n",
       "  {'id': '4bf58dd8d48988d17c941735',\n",
       "   'name': 'Casino',\n",
       "   'pluralName': 'Casinos',\n",
       "   'icon': 'https://foursquare.com/img/categories/arts_entertainment/casino.png',\n",
       "   'categories': []},\n",
       "  {'id': '4bf58dd8d48988d18e941735',\n",
       "   'name': 'Comedy Club',\n",
       "   'pluralName': 'Comedy Clubs',\n",
       "   'icon': 'https://foursquare.com/img/categories/arts_entertainment/comedyclub.png',\n",
       "   'categories': []},\n",
       "  {'id': '4bf58dd8d48988d1f1931735',\n",
       "   'name': 'General Entertainment',\n",
       "   'pluralName': 'General Entertainment',\n",
       "   'icon': 'https://foursquare.com/img/categories/arts_entertainment/default.png',\n",
       "   'categories': []},\n",
       "  {'id': '4bf58dd8d48988d17f941735',\n",
       "   'name': 'Movie Theater',\n",
       "   'pluralName': 'Movie Theaters',\n",
       "   'icon': 'https://foursquare.com/img/categories/arts_entertainment/movietheater.png',\n",
       "   'categories': [{'id': '4bf58dd8d48988d17e941735',\n",
       "     'name': 'Indie Movie Theater',\n",
       "     'pluralName': 'Indie Movie Theaters',\n",
       "     'icon': 'https://foursquare.com/img/categories/arts_entertainment/movietheater.png'},\n",
       "    {'id': '4bf58dd8d48988d180941735',\n",
       "     'name': 'Multiplex',\n",
       "     'pluralName': 'Multiplexes',\n",
       "     'icon': 'https://foursquare.com/img/categories/arts_entertainment/movietheater.png'}]},\n",
       "  {'id': '4bf58dd8d48988d181941735',\n",
       "   'name': 'Museum',\n",
       "   'pluralName': 'Museums',\n",
       "   'icon': 'https://foursquare.com/img/categories/arts_entertainment/museum.png',\n",
       "   'categories': [{'id': '4bf58dd8d48988d18f941735',\n",
       "     'name': 'Art Museum',\n",
       "     'pluralName': 'Art Museums',\n",
       "     'icon': 'https://foursquare.com/img/categories/arts_entertainment/museum_art.png'},\n",
       "    {'id': '4bf58dd8d48988d190941735',\n",
       "     'name': 'History Museum',\n",
       "     'pluralName': 'History Museums',\n",
       "     'icon': 'https://foursquare.com/img/categories/arts_entertainment/museum.png'},\n",
       "    {'id': '4bf58dd8d48988d192941735',\n",
       "     'name': 'Planetarium',\n",
       "     'pluralName': 'Planetariums',\n",
       "     'icon': 'https://foursquare.com/img/categories/arts_entertainment/museum_planetarium.png'},\n",
       "    {'id': '4bf58dd8d48988d191941735',\n",
       "     'name': 'Science Museum',\n",
       "     'pluralName': 'Science Museums',\n",
       "     'icon': 'https://foursquare.com/img/categories/arts_entertainment/museum_science.png'}]},\n",
       "  {'id': '4bf58dd8d48988d1e5931735',\n",
       "   'name': 'Music Venue',\n",
       "   'pluralName': 'Music Venues',\n",
       "   'icon': 'https://foursquare.com/img/categories/arts_entertainment/musicvenue.png',\n",
       "   'categories': [{'id': '4bf58dd8d48988d1e6931735',\n",
       "     'name': 'Concert Hall',\n",
       "     'pluralName': 'Concert Halls',\n",
       "     'icon': 'https://foursquare.com/img/categories/arts_entertainment/musicvenue.png'},\n",
       "    {'id': '4bf58dd8d48988d1e7931735',\n",
       "     'name': 'Jazz Club',\n",
       "     'pluralName': 'Jazz Clubs',\n",
       "     'icon': 'https://foursquare.com/img/categories/arts_entertainment/musicvenue.png'},\n",
       "    {'id': '4bf58dd8d48988d1e8931735',\n",
       "     'name': 'Piano Bar',\n",
       "     'pluralName': 'Piano Bars',\n",
       "     'icon': 'https://foursquare.com/img/categories/arts_entertainment/musicvenue.png'},\n",
       "    {'id': '4bf58dd8d48988d1e9931735',\n",
       "     'name': 'Rock Club',\n",
       "     'pluralName': 'Rock Clubs',\n",
       "     'icon': 'https://foursquare.com/img/categories/arts_entertainment/musicvenue_rockclub.png'}]},\n",
       "  {'id': '4bf58dd8d48988d1f2931735',\n",
       "   'name': 'Performing Arts Venue',\n",
       "   'pluralName': 'Performing Arts Venues',\n",
       "   'icon': 'https://foursquare.com/img/categories/arts_entertainment/default.png',\n",
       "   'categories': [{'id': '4bf58dd8d48988d1f3931735',\n",
       "     'name': 'Concert Hall',\n",
       "     'pluralName': 'Concert Halls',\n",
       "     'icon': 'https://foursquare.com/img/categories/arts_entertainment/default.png'},\n",
       "    {'id': '4bf58dd8d48988d134941735',\n",
       "     'name': 'Dance Studio',\n",
       "     'pluralName': 'Dance Studios',\n",
       "     'icon': 'https://foursquare.com/img/categories/arts_entertainment/default.png'},\n",
       "    {'id': '4bf58dd8d48988d135941735',\n",
       "     'name': 'Indie or Off Broadway Theater',\n",
       "     'pluralName': 'Indie or Off Broadway Theaters',\n",
       "     'icon': 'https://foursquare.com/img/categories/arts_entertainment/default.png'},\n",
       "    {'id': '4bf58dd8d48988d136941735',\n",
       "     'name': 'Opera House',\n",
       "     'pluralName': 'Opera Houses',\n",
       "     'icon': 'https://foursquare.com/img/categories/arts_entertainment/default.png'},\n",
       "    {'id': '4bf58dd8d48988d137941735',\n",
       "     'name': 'Theater',\n",
       "     'pluralName': 'Theaters',\n",
       "     'icon': 'https://foursquare.com/img/categories/arts_entertainment/default.png'}]},\n",
       "  {'id': '4bf58dd8d48988d1e3931735',\n",
       "   'name': 'Pool Hall',\n",
       "   'pluralName': 'Pool Halls',\n",
       "   'icon': 'https://foursquare.com/img/categories/arts_entertainment/billiards.png',\n",
       "   'categories': []},\n",
       "  {'id': '4bf58dd8d48988d1f4931735',\n",
       "   'name': 'Racetrack',\n",
       "   'pluralName': 'Racetracks',\n",
       "   'icon': 'https://foursquare.com/img/categories/arts_entertainment/racetrack.png',\n",
       "   'categories': []},\n",
       "  {'id': '4bf58dd8d48988d184941735',\n",
       "   'name': 'Stadium',\n",
       "   'pluralName': 'Stadiums',\n",
       "   'icon': 'https://foursquare.com/img/categories/arts_entertainment/stadium.png',\n",
       "   'categories': [{'id': '4bf58dd8d48988d18c941735',\n",
       "     'name': 'Baseball Stadium',\n",
       "     'pluralName': 'Baseball Stadiums',\n",
       "     'icon': 'https://foursquare.com/img/categories/arts_entertainment/stadium_baseball.png'},\n",
       "    {'id': '4bf58dd8d48988d18b941735',\n",
       "     'name': 'Basketball Stadium',\n",
       "     'pluralName': 'Basketball Stadiums',\n",
       "     'icon': 'https://foursquare.com/img/categories/arts_entertainment/stadium_basketball.png'},\n",
       "    {'id': '4bf58dd8d48988d18a941735',\n",
       "     'name': 'Cricket Ground',\n",
       "     'pluralName': 'Cricket Grounds',\n",
       "     'icon': 'https://foursquare.com/img/categories/arts_entertainment/stadium_cricket.png'},\n",
       "    {'id': '4bf58dd8d48988d189941735',\n",
       "     'name': 'Football Stadium',\n",
       "     'pluralName': 'Football Stadiums',\n",
       "     'icon': 'https://foursquare.com/img/categories/arts_entertainment/stadium_football.png'},\n",
       "    {'id': '4bf58dd8d48988d185941735',\n",
       "     'name': 'Hockey Stadium',\n",
       "     'pluralName': 'Hockey Stadiums',\n",
       "     'icon': 'https://foursquare.com/img/categories/arts_entertainment/stadium_hockey.png'},\n",
       "    {'id': '4bf58dd8d48988d188941735',\n",
       "     'name': 'Soccer Stadium',\n",
       "     'pluralName': 'Soccer Stadiums',\n",
       "     'icon': 'https://foursquare.com/img/categories/arts_entertainment/stadium_soccer.png'},\n",
       "    {'id': '4bf58dd8d48988d187941735',\n",
       "     'name': 'Track',\n",
       "     'pluralName': 'Tracks',\n",
       "     'icon': 'https://foursquare.com/img/categories/arts_entertainment/stadium_track.png'}]},\n",
       "  {'id': '4bf58dd8d48988d183941735',\n",
       "   'name': 'Strip Club',\n",
       "   'pluralName': 'Strip Clubs',\n",
       "   'icon': 'https://foursquare.com/img/categories/arts_entertainment/stripclub.png',\n",
       "   'categories': []},\n",
       "  {'id': '4bf58dd8d48988d182941735',\n",
       "   'name': 'Theme Park',\n",
       "   'pluralName': 'Theme Parks',\n",
       "   'icon': 'https://foursquare.com/img/categories/arts_entertainment/themepark.png',\n",
       "   'categories': []},\n",
       "  {'id': '4bf58dd8d48988d193941735',\n",
       "   'name': 'Water Park',\n",
       "   'pluralName': 'Water Parks',\n",
       "   'icon': 'https://foursquare.com/img/categories/arts_entertainment/waterpark.png',\n",
       "   'categories': []},\n",
       "  {'id': '4bf58dd8d48988d17b941735',\n",
       "   'name': 'Zoo or Aquarium',\n",
       "   'pluralName': 'Zoos or Aquariums',\n",
       "   'icon': 'https://foursquare.com/img/categories/arts_entertainment/zoo.png',\n",
       "   'categories': []}]}"
      ]
     },
     "execution_count": 10,
     "metadata": {},
     "output_type": "execute_result"
    }
   ],
   "source": [
    "catagories['Arts & Entertainment']"
   ]
  },
  {
   "cell_type": "raw",
   "metadata": {},
   "source": [
    "Venue id | \n",
    "venue name| \n",
    "latitude| \n",
    "longitude| \n",
    "address|\n",
    "city|\n",
    "state|\n",
    "checkin | \n",
    "checked user|\n",
    "current user|\n",
    "todo|\n",
    "category |\n",
    "category id 0| \n",
    "category id 1| \n",
    "\n",
    "\n",
    "\n"
   ]
  },
  {
   "cell_type": "code",
   "execution_count": 1,
   "metadata": {},
   "outputs": [],
   "source": [
    "data = []\n",
    "keys = ['v_id','v_name','latitude','longtitude','adddress','city','state','check_in','check_user','curr_user','todo','category','category_0','category_1']\n",
    "with open('./check-in data/Venues/LA/LA-Venues.txt') as f:\n",
    "    for i in f:\n",
    "        values = [ j.strip().replace('\"','') for j in i.split('\t')]\n",
    "        temp = dict()\n",
    "        if(len(values)<14):\n",
    "            continue\n",
    "        for k in range(14):\n",
    "            temp[keys[k]] = values[k] \n",
    "        data.append(temp)"
   ]
  },
  {
   "cell_type": "code",
   "execution_count": 6,
   "metadata": {},
   "outputs": [
    {
     "data": {
      "text/plain": [
       "{'v_id': '4b382d99f964a520854c25e3',\n",
       " 'v_name': 'The Admiral Risty',\n",
       " 'latitude': '33.7482354',\n",
       " 'longtitude': '-118.4071307',\n",
       " 'adddress': '31250 Palos Verdes Dr W',\n",
       " 'city': 'Rancho Palos Verdes',\n",
       " 'state': 'CA',\n",
       " 'check_in': '29',\n",
       " 'check_user': '18',\n",
       " 'curr_user': '0',\n",
       " 'todo': '0',\n",
       " 'category': '0',\n",
       " 'category_0': '1',\n",
       " 'category_1': '4bf58dd8d48988d1ce941735'}"
      ]
     },
     "execution_count": 6,
     "metadata": {},
     "output_type": "execute_result"
    }
   ],
   "source": [
    "data[0]"
   ]
  },
  {
   "cell_type": "code",
   "execution_count": 11,
   "metadata": {},
   "outputs": [
    {
     "data": {
      "text/plain": [
       "{'v_id': '4be5acd52468c928cf5a0043',\n",
       " 'v_name': 'TRUMP NATIONAL DOG PARK',\n",
       " 'latitude': '33.729714',\n",
       " 'longtitude': '-118.349261',\n",
       " 'adddress': 'null',\n",
       " 'city': 'Rancho Palos Verdes',\n",
       " 'state': 'CA',\n",
       " 'check_in': '94',\n",
       " 'check_user': '67',\n",
       " 'curr_user': '0',\n",
       " 'todo': '0',\n",
       " 'category': '0',\n",
       " 'category_0': '1',\n",
       " 'category_1': '4bf58dd8d48988d1e5941735'}"
      ]
     },
     "execution_count": 11,
     "metadata": {},
     "output_type": "execute_result"
    }
   ],
   "source": [
    "data[1]"
   ]
  }
 ],
 "metadata": {
  "kernelspec": {
   "display_name": "Python 3",
   "language": "python",
   "name": "python3"
  },
  "language_info": {
   "codemirror_mode": {
    "name": "ipython",
    "version": 3
   },
   "file_extension": ".py",
   "mimetype": "text/x-python",
   "name": "python",
   "nbconvert_exporter": "python",
   "pygments_lexer": "ipython3",
   "version": "3.7.3"
  }
 },
 "nbformat": 4,
 "nbformat_minor": 2
}
